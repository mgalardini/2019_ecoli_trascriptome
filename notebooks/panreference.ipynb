{
 "cells": [
  {
   "cell_type": "code",
   "execution_count": 1,
   "metadata": {},
   "outputs": [],
   "source": [
    "dir1 = '../out/counts/'\n",
    "dir2 = '../out/counts_reference/'"
   ]
  },
  {
   "cell_type": "code",
   "execution_count": 2,
   "metadata": {},
   "outputs": [
    {
     "name": "stderr",
     "output_type": "stream",
     "text": [
      "/usr/local/lib/python3.6/dist-packages/matplotlib/__init__.py:886: MatplotlibDeprecationWarning: \n",
      "examples.directory is deprecated; in the future, examples will be found relative to the 'datapath' directory.\n",
      "  \"found relative to the 'datapath' directory.\".format(key))\n"
     ]
    }
   ],
   "source": [
    "%matplotlib inline\n",
    "\n",
    "import seaborn as sns\n",
    "import matplotlib.pyplot as plt\n",
    "\n",
    "sns.set_style('white')"
   ]
  },
  {
   "cell_type": "code",
   "execution_count": 3,
   "metadata": {},
   "outputs": [],
   "source": [
    "import pandas as pd"
   ]
  },
  {
   "cell_type": "code",
   "execution_count": 4,
   "metadata": {},
   "outputs": [],
   "source": [
    "files1 = !find $dir1 -type f -name 'abundance.tsv'\n",
    "files2 = !find $dir2 -type f -name 'abundance.tsv'"
   ]
  },
  {
   "cell_type": "code",
   "execution_count": 5,
   "metadata": {},
   "outputs": [],
   "source": [
    "m1 = None\n",
    "for f in files1:\n",
    "    strain, replica = f.split('/')[3], f.split('/')[4]\n",
    "    sample = '%s_%s' % (strain, replica)\n",
    "    n = pd.read_table(f, index_col=0)['tpm']\n",
    "    n.name = sample\n",
    "    if m1 is None:\n",
    "        m1 = n.to_frame()\n",
    "    else:\n",
    "        m1 = m1.join(n, how='outer')"
   ]
  },
  {
   "cell_type": "code",
   "execution_count": 6,
   "metadata": {},
   "outputs": [],
   "source": [
    "m2 = None\n",
    "for f in files2:\n",
    "    strain, replica = f.split('/')[3], f.split('/')[4]\n",
    "    sample = '%s_%s' % (strain, replica)\n",
    "    n = pd.read_table(f, index_col=0)['tpm']\n",
    "    n.name = sample\n",
    "    if m2 is None:\n",
    "        m2 = n.to_frame()\n",
    "    else:\n",
    "        m2 = m2.join(n, how='outer')"
   ]
  },
  {
   "cell_type": "code",
   "execution_count": 7,
   "metadata": {},
   "outputs": [
    {
     "data": {
      "image/png": "[encoded data removed]",
      "text/plain": [
       "<Figure size 288x288 with 1 Axes>"
      ]
     },
     "metadata": {
      "needs_background": "light"
     },
     "output_type": "display_data"
    }
   ],
   "source": [
    "plt.figure(figsize=(4, 4))\n",
    "\n",
    "idx = m1.index.intersection(m2.index)\n",
    "col = m1.columns.intersection(m2.columns)\n",
    "\n",
    "x = m2.loc[idx, col].values.flatten()\n",
    "y = m1.loc[idx, col].values.flatten()\n",
    "\n",
    "plt.plot(x, y,\n",
    "         'k.',\n",
    "         alpha=0.3)\n",
    "\n",
    "plt.xlabel('same reference transcripts')\n",
    "plt.ylabel('pangenome-aware transcripts');"
   ]
  },
  {
   "cell_type": "code",
   "execution_count": 8,
   "metadata": {},
   "outputs": [],
   "source": [
    "m = m1.loc[idx, col] - m2.loc[idx, col]"
   ]
  },
  {
   "cell_type": "code",
   "execution_count": 9,
   "metadata": {},
   "outputs": [
    {
     "data": {
      "text/plain": [
       "target_id           \n",
       "b3556      NT12393_2     7055.60\n",
       "b3339      NT12150_2   -10437.32\n",
       "           NT12150_1   -12324.56\n",
       "           NT12393_1   -12303.61\n",
       "           NT12393_2   -11931.26\n",
       "           NT12167_1    -5057.92\n",
       "           NT12146_1    -7868.19\n",
       "           NT12146_2    -9409.96\n",
       "           NT12131_1   -10445.41\n",
       "           NT12131_2   -12478.09\n",
       "           NT12131_3   -12732.53\n",
       "           NT12089_2   -13265.14\n",
       "           NT12089_4   -10705.15\n",
       "           NT12089_3   -10106.04\n",
       "           NT12160_1    -7731.97\n",
       "           NT12160_2   -10324.87\n",
       "           NT12616_1    -6876.47\n",
       "           NT12197_2    -9472.62\n",
       "           NT12197_1    -7662.20\n",
       "           NT12193_1    -9214.65\n",
       "           NT12193_2    -8315.45\n",
       "b1923      NT12616_2     7164.09\n",
       "dtype: float64"
      ]
     },
     "execution_count": 9,
     "metadata": {},
     "output_type": "execute_result"
    }
   ],
   "source": [
    "m[abs(m) > 5000].stack()"
   ]
  },
  {
   "cell_type": "markdown",
   "metadata": {},
   "source": [
    "<h5><a href=\"javascript:toggle()\" target=\"_self\">toggle source code</a></h5>"
   ]
  }
 ],
 "metadata": {
  "kernelspec": {
   "display_name": "Python 3",
   "language": "python",
   "name": "python3"
  },
  "language_info": {
   "codemirror_mode": {
    "name": "ipython",
    "version": 3
   },
   "file_extension": ".py",
   "mimetype": "text/x-python",
   "name": "python",
   "nbconvert_exporter": "python",
   "pygments_lexer": "ipython3",
   "version": "3.6.7"
  }
 },
 "nbformat": 4,
 "nbformat_minor": 2
}
